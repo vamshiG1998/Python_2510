{
  "nbformat": 4,
  "nbformat_minor": 0,
  "metadata": {
    "colab": {
      "provenance": [],
      "toc_visible": true,
      "authorship_tag": "ABX9TyNTOFipEB2kSTtSMDPDz+Dy",
      "include_colab_link": true
    },
    "kernelspec": {
      "name": "python3",
      "display_name": "Python 3"
    },
    "language_info": {
      "name": "python"
    }
  },
  "cells": [
    {
      "cell_type": "markdown",
      "metadata": {
        "id": "view-in-github",
        "colab_type": "text"
      },
      "source": [
        "<a href=\"https://colab.research.google.com/github/vamshiG1998/Python_2510/blob/main/03_Control_Stmts.ipynb\" target=\"_parent\"><img src=\"https://colab.research.google.com/assets/colab-badge.svg\" alt=\"Open In Colab\"/></a>"
      ]
    },
    {
      "cell_type": "code",
      "execution_count": null,
      "metadata": {
        "colab": {
          "base_uri": "https://localhost:8080/"
        },
        "id": "nqppc8gc8fSy",
        "outputId": "a228c0e5-40bb-4638-a90d-dd8f16f54abc"
      },
      "outputs": [
        {
          "output_type": "stream",
          "name": "stdout",
          "text": [
            "valid condition\n",
            "Comparison is correct\n"
          ]
        }
      ],
      "source": [
        "# if statement\n",
        "\n",
        "if 4 > 2:\n",
        "  print(\"valid condition\")\n",
        "\n",
        "a = 1\n",
        "\n",
        "if a < 3:\n",
        "  print(\"Comparison is correct\")\n",
        "\n"
      ]
    },
    {
      "cell_type": "code",
      "source": [
        "#if else statement\n",
        "\n",
        "age = 18\n",
        "\n",
        "if age >= 18:\n",
        "  print(\"Eligible for vote\")\n",
        "else:\n",
        "    print(\"Not eligible for vote\")"
      ],
      "metadata": {
        "colab": {
          "base_uri": "https://localhost:8080/"
        },
        "id": "1XA_wp_x-Dv4",
        "outputId": "d6028015-8a66-480b-a1ac-8e5fa35f49ad"
      },
      "execution_count": null,
      "outputs": [
        {
          "output_type": "stream",
          "name": "stdout",
          "text": [
            "Eligible for vote\n"
          ]
        }
      ]
    },
    {
      "cell_type": "code",
      "source": [
        "# dynamic voting app\n",
        "\n",
        "age = int(input(\"Enter the age: \"))\n",
        "\n",
        "if age >= 18:\n",
        "  print(\"Eligible for vote\")\n",
        "else:\n",
        "    print(\"Not eligible for vote\")\n",
        "\n"
      ],
      "metadata": {
        "colab": {
          "base_uri": "https://localhost:8080/"
        },
        "id": "Vno_qNkpC_M1",
        "outputId": "ced5ef5b-037a-48c9-fd74-ed499849e4ca"
      },
      "execution_count": null,
      "outputs": [
        {
          "output_type": "stream",
          "name": "stdout",
          "text": [
            "Enter the age: 13\n",
            "Not eligible for vote\n"
          ]
        }
      ]
    },
    {
      "cell_type": "markdown",
      "source": [
        "# Task\n"
      ],
      "metadata": {
        "id": "K9IPchlWDtEu"
      }
    },
    {
      "cell_type": "code",
      "source": [
        "from ast import If\n",
        "# Tution fee Discount Calculation\n",
        "\n",
        "Student_name = input(\"Enter student name: \")\n",
        "Student_grade_level = int(input(\"Enter the grade (1-12): \"))\n",
        "Base_tuition_fee = int(input(\"Enter base tution fee: \"))\n",
        "Academic_Topper_status = input(\"Enter academic topper status: \")\n",
        "Discount_percentage = None\n",
        "\n",
        "# Calculate the discount percentage\n",
        "\n",
        "if 9 <= Student_grade_level <= 12 and Academic_Topper_status == \"yes\":\n",
        "  Discount_percentage = 20\n",
        "  print(f\"Discount_percentage: {Discount_percentage}\")\n",
        "elif 9 <= Student_grade_level <= 12 and Academic_Topper_status == \"no\":\n",
        "  Discount_percentage = 10\n",
        "  print(f\"Discount_percentage: {Discount_percentage}\")\n",
        "elif 6 <= Student_grade_level <= 8:\n",
        "  Discount_percentage = 5\n",
        "  print(f\"Discount_percentage: {Discount_percentage}\")\n",
        "elif Student_grade_level < 6:\n",
        "  Discount_percentage = 0\n",
        "  print(f\"Discount_percentage: {Discount_percentage}\")\n",
        "if Student_grade_level == 10:\n",
        "  Discount_percentage += 3\n",
        "  print(f\"Discount_percentage: {Discount_percentage}\")\n",
        "elif Student_grade_level == 12:\n",
        "  Discount_percentage += 5\n",
        "  print(f\"Discount_percentage: {Discount_percentage}\")\n",
        "\n",
        "\n",
        "# Tutione fee calculations\n",
        "\n",
        "Discount_amount = Base_tuition_fee*Discount_percentage/100\n",
        "print(f\"Discount_amount: {Discount_amount}\")\n",
        "\n",
        "Final_tution_fee = Base_tuition_fee - Discount_amount\n",
        "print(f\"Final_tution_fee: {Final_tution_fee}\")\n",
        "\n",
        "# Outout\n",
        "print(\"-------------\")\n",
        "print(f\"Student name: {Student_name}\")\n",
        "print(f\"Grade level: {Student_grade_level}\")\n",
        "print(f\"Academic topper status(Yes/No): {Academic_Topper_status}\")\n",
        "print(f\"Base tution fee: {Base_tuition_fee}\")\n",
        "print(f\"Total Discount percentage: {Discount_percentage}\")\n",
        "print(f\"Discount amount saved: {Discount_amount}\")\n",
        "print(f\"Final tution fee after discount: {Final_tution_fee}\")\n",
        "\n",
        "\n",
        "\n"
      ],
      "metadata": {
        "colab": {
          "base_uri": "https://localhost:8080/"
        },
        "id": "6OCDAC5SD543",
        "outputId": "cc351634-c3e4-4b59-9e84-b505adefa4dd"
      },
      "execution_count": 66,
      "outputs": [
        {
          "output_type": "stream",
          "name": "stdout",
          "text": [
            "Enter student name: vc\n",
            "Enter the grade (1-12): 12\n",
            "Enter base tution fee: 10000\n",
            "Enter academic topper status: yes\n",
            "Discount_percentage: 20\n",
            "Discount_percentage: 25\n",
            "Discount_amount: 2500.0\n",
            "Final_tution_fee: 7500.0\n",
            "-------------\n",
            "Student name: vc\n",
            "Grade level: 12\n",
            "Academic topper status(Yes/No): yes\n",
            "Base tution fee: 10000\n",
            "Total Discount percentage: 25\n",
            "Discount amount saved: 2500.0\n",
            "Final tution fee after discount: 7500.0\n"
          ]
        }
      ]
    }
  ]
}