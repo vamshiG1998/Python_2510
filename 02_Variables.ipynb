{
  "nbformat": 4,
  "nbformat_minor": 0,
  "metadata": {
    "colab": {
      "provenance": [],
      "authorship_tag": "ABX9TyOWZ2xP4ZTLkzJB/6OSPZbp",
      "include_colab_link": true
    },
    "kernelspec": {
      "name": "python3",
      "display_name": "Python 3"
    },
    "language_info": {
      "name": "python"
    }
  },
  "cells": [
    {
      "cell_type": "markdown",
      "metadata": {
        "id": "view-in-github",
        "colab_type": "text"
      },
      "source": [
        "<a href=\"https://colab.research.google.com/github/vamshiG1998/Python_2510/blob/main/02_Variables.ipynb\" target=\"_parent\"><img src=\"https://colab.research.google.com/assets/colab-badge.svg\" alt=\"Open In Colab\"/></a>"
      ]
    },
    {
      "cell_type": "code",
      "execution_count": null,
      "metadata": {
        "colab": {
          "base_uri": "https://localhost:8080/"
        },
        "id": "FJ0iXQkTERyY",
        "outputId": "05335715-80ac-4961-ce05-00b99473f79c"
      },
      "outputs": [
        {
          "output_type": "stream",
          "name": "stdout",
          "text": [
            "11642888\n",
            "134148987527760\n",
            "134149933932320\n",
            "10545504\n",
            "134148986633536\n",
            "134148983908032\n"
          ]
        }
      ],
      "source": [
        "employee_age = 26\n",
        "employee_gpa = 8.6\n",
        "employee_name = \"vc\"\n",
        "employee_passed = True\n",
        "employee_dob = \"05/09/1998\"\n",
        "\n",
        "employee_1_absent_date = [1,30]\n",
        "employee_2_absent_dates = [1,30]\n",
        "\n",
        "#id gives the identity of the value where it is stored in the local memory\n",
        "\n",
        "print(id(employee_age))\n",
        "print(id(employee_gpa))\n",
        "print(id(employee_name))\n",
        "print(id(employee_passed))\n",
        "\n",
        "print(id(employee_1_absent_date))\n",
        "print(id(employee_2_absent_dates))"
      ]
    },
    {
      "cell_type": "code",
      "source": [
        "#type gives the type of object\n",
        "print(type(employee_age))\n",
        "print(type(employee_gpa))\n",
        "print(type(employee_name))\n",
        "print(type(employee_passed))\n",
        "# if we keep integers within the \"\" it will be considered as string\n",
        "print(type(dob))\n",
        "\n",
        "print(type(employee_1_absent_date))\n",
        "print(type(employee_2_absent_dates))"
      ],
      "metadata": {
        "colab": {
          "base_uri": "https://localhost:8080/"
        },
        "id": "sRHkIAHeXWcj",
        "outputId": "68c49fd1-b92e-4596-a898-6afd1e969536"
      },
      "execution_count": null,
      "outputs": [
        {
          "output_type": "stream",
          "name": "stdout",
          "text": [
            "<class 'int'>\n",
            "<class 'float'>\n",
            "<class 'str'>\n",
            "<class 'bool'>\n",
            "<class 'str'>\n",
            "<class 'list'>\n",
            "<class 'list'>\n"
          ]
        }
      ]
    },
    {
      "cell_type": "code",
      "source": [
        "# Operators\n",
        "a=12\n",
        "b=13\n",
        "# Addition : perform mathematical addition operation\n",
        "print(a+b)"
      ],
      "metadata": {
        "colab": {
          "base_uri": "https://localhost:8080/"
        },
        "id": "w15W7nxdXMUv",
        "outputId": "11f3f0de-2e9c-48f3-85f9-a420bee8ff92"
      },
      "execution_count": null,
      "outputs": [
        {
          "output_type": "stream",
          "name": "stdout",
          "text": [
            "25\n"
          ]
        }
      ]
    },
    {
      "cell_type": "code",
      "source": [
        "\n",
        "data_1= \"Vamshi\"\n",
        "data_2= \"Chandu\"\n",
        "# Concatenation : Is joining multiple strings together, using + operator\n",
        "print(data_1+data_2)"
      ],
      "metadata": {
        "colab": {
          "base_uri": "https://localhost:8080/"
        },
        "id": "B56sWw8IXDku",
        "outputId": "ef52efc1-c5e2-4a7d-bf3a-3f6124a2b321"
      },
      "execution_count": null,
      "outputs": [
        {
          "output_type": "stream",
          "name": "stdout",
          "text": [
            "VamshiChandu\n"
          ]
        }
      ]
    },
    {
      "cell_type": "code",
      "source": [
        "# we cannot concatenate str and int\n",
        "print(data_2+b)"
      ],
      "metadata": {
        "colab": {
          "base_uri": "https://localhost:8080/",
          "height": 159
        },
        "id": "zn_8ZY1cXjEK",
        "outputId": "a9173dbe-9d80-4d42-8383-6d8626c2fbd6"
      },
      "execution_count": null,
      "outputs": [
        {
          "output_type": "error",
          "ename": "TypeError",
          "evalue": "can only concatenate str (not \"int\") to str",
          "traceback": [
            "\u001b[0;31m---------------------------------------------------------------------------\u001b[0m",
            "\u001b[0;31mTypeError\u001b[0m                                 Traceback (most recent call last)",
            "\u001b[0;32m/tmp/ipython-input-1940224369.py\u001b[0m in \u001b[0;36m<cell line: 0>\u001b[0;34m()\u001b[0m\n\u001b[1;32m      1\u001b[0m \u001b[0;31m# we cannot concatenate str and int\u001b[0m\u001b[0;34m\u001b[0m\u001b[0;34m\u001b[0m\u001b[0m\n\u001b[0;32m----> 2\u001b[0;31m \u001b[0mprint\u001b[0m\u001b[0;34m(\u001b[0m\u001b[0mdata_2\u001b[0m\u001b[0;34m+\u001b[0m\u001b[0mb\u001b[0m\u001b[0;34m)\u001b[0m\u001b[0;34m\u001b[0m\u001b[0;34m\u001b[0m\u001b[0m\n\u001b[0m",
            "\u001b[0;31mTypeError\u001b[0m: can only concatenate str (not \"int\") to str"
          ]
        }
      ]
    },
    {
      "cell_type": "code",
      "source": [
        "# Interpolation  Is replacing placeholders with actual values\n",
        "name = \"GVK\"\n",
        "dob = \"050998\"\n",
        "age = 26\n",
        "gpa = 6.4\n",
        "\n",
        "print(f\"my name is {name} my age is {age} and my gpa is {gpa}\")\n",
        "print(f\"my username is {name}{dob}\")"
      ],
      "metadata": {
        "colab": {
          "base_uri": "https://localhost:8080/"
        },
        "id": "3efffdDGXntF",
        "outputId": "3bced70e-d7d9-486d-d803-e3f8bb76b803"
      },
      "execution_count": null,
      "outputs": [
        {
          "output_type": "stream",
          "name": "stdout",
          "text": [
            "my name is GVK my age is 26 and my gpa is 6.4\n",
            "my username is GVK050998\n"
          ]
        }
      ]
    },
    {
      "cell_type": "code",
      "source": [
        "x = 11\n",
        "y = 12\n",
        "z = 13\n",
        "\n",
        "print(x+y+z)\n",
        "\n",
        "x,y,z = 11,12,13\n",
        "print(x+y+z)\n"
      ],
      "metadata": {
        "colab": {
          "base_uri": "https://localhost:8080/"
        },
        "id": "056JGXvRaz0N",
        "outputId": "f1e024ce-c2f7-48a6-945c-494ec7a8794f"
      },
      "execution_count": null,
      "outputs": [
        {
          "output_type": "stream",
          "name": "stdout",
          "text": [
            "36\n",
            "36\n"
          ]
        }
      ]
    },
    {
      "cell_type": "code",
      "source": [
        "x,y,z = 11,12,13,14\n",
        "\n",
        "# x,y,z = 11,12,13,14 # ValueError: too many values to unpack (expected 3) --> LHS == RHS\n",
        "print(x+y+z)"
      ],
      "metadata": {
        "colab": {
          "base_uri": "https://localhost:8080/",
          "height": 159
        },
        "id": "E4bLJ2HRcghg",
        "outputId": "5ab50e55-e593-4dd7-b238-37e50c766f23"
      },
      "execution_count": null,
      "outputs": [
        {
          "output_type": "error",
          "ename": "ValueError",
          "evalue": "too many values to unpack (expected 3)",
          "traceback": [
            "\u001b[0;31m---------------------------------------------------------------------------\u001b[0m",
            "\u001b[0;31mValueError\u001b[0m                                Traceback (most recent call last)",
            "\u001b[0;32m/tmp/ipython-input-2461375659.py\u001b[0m in \u001b[0;36m<cell line: 0>\u001b[0;34m()\u001b[0m\n\u001b[0;32m----> 1\u001b[0;31m \u001b[0mx\u001b[0m\u001b[0;34m,\u001b[0m\u001b[0my\u001b[0m\u001b[0;34m,\u001b[0m\u001b[0mz\u001b[0m \u001b[0;34m=\u001b[0m \u001b[0;36m11\u001b[0m\u001b[0;34m,\u001b[0m\u001b[0;36m12\u001b[0m\u001b[0;34m,\u001b[0m\u001b[0;36m13\u001b[0m\u001b[0;34m,\u001b[0m\u001b[0;36m14\u001b[0m\u001b[0;34m\u001b[0m\u001b[0;34m\u001b[0m\u001b[0m\n\u001b[0m\u001b[1;32m      2\u001b[0m \u001b[0mprint\u001b[0m\u001b[0;34m(\u001b[0m\u001b[0mx\u001b[0m\u001b[0;34m+\u001b[0m\u001b[0my\u001b[0m\u001b[0;34m+\u001b[0m\u001b[0mz\u001b[0m\u001b[0;34m)\u001b[0m\u001b[0;34m\u001b[0m\u001b[0;34m\u001b[0m\u001b[0m\n",
            "\u001b[0;31mValueError\u001b[0m: too many values to unpack (expected 3)"
          ]
        }
      ]
    },
    {
      "cell_type": "code",
      "source": [
        "# Arithmetic Operators\n",
        "\n",
        "n1=4\n",
        "n2=6\n",
        "\n",
        "print(f\"sum of n1 and n2 is:{n1+n2}\")\n",
        "print(f\"subtract of n1 and n2 is:{n1-n2}\")\n",
        "print(f\"product of n1 and n2 is:{n1*n2}\")\n",
        "print(f\"divison of n1 and n2 is:{n1/n2}\")\n",
        "print(F\"modulus of n1 and n2 is:{n1//n2}\")\n",
        "print(f\"floor divison of n1 and n2 is:{n1%n2}\")\n",
        "print(f\"exponentioal of n1 and n2 is:{n1**n2}\")"
      ],
      "metadata": {
        "colab": {
          "base_uri": "https://localhost:8080/"
        },
        "id": "00lluOA4drOY",
        "outputId": "5ccd0908-9020-43bc-fe43-04537753e8c2"
      },
      "execution_count": null,
      "outputs": [
        {
          "output_type": "stream",
          "name": "stdout",
          "text": [
            "sum of n1 and n2 is:10\n",
            "subtract of n1 and n2 is:-2\n",
            "product of n1 and n2 is:24\n",
            "divison of n1 and n2 is:0.6666666666666666\n",
            "modulus of n1 and n2 is:0\n",
            "floor divison of n1 and n2 is:4\n",
            "exponentioal of n1 and n2 is:4096\n"
          ]
        }
      ]
    },
    {
      "cell_type": "code",
      "source": [
        "# Without Compound Assignment Operators\n",
        "x = 10\n",
        "x = x + 5\n",
        "print(x)\n",
        "\n",
        "# With Compound Assignment Operators\n",
        "x = 10\n",
        "print(id(x))\n",
        "x+= 5 # x = 10 + 5 = 15\n",
        "print(id(x))\n",
        "print(x)\n",
        "\n",
        "f = 10\n",
        "print(id(x))\n",
        "x*= 5 # 15 * 5\n",
        "print(f)\n",
        "print(x)"
      ],
      "metadata": {
        "colab": {
          "base_uri": "https://localhost:8080/"
        },
        "id": "KkfgFc0XffwV",
        "outputId": "1c2a3765-b9a4-439d-a06a-e0cfaf08292f"
      },
      "execution_count": null,
      "outputs": [
        {
          "output_type": "stream",
          "name": "stdout",
          "text": [
            "15\n",
            "11642376\n",
            "11642536\n",
            "15\n",
            "11642536\n",
            "10\n",
            "75\n"
          ]
        }
      ]
    },
    {
      "cell_type": "code",
      "source": [
        "# Comparison Operators\n",
        "\n",
        "a = 1\n",
        "b = 1\n",
        "c = 3\n",
        "\n",
        "print(a == b)\n",
        "print(a == c)\n",
        "print(a != b)\n",
        "print(a > b)\n",
        "print(b < c)\n",
        "print(a >= b)\n",
        "print(a <= b)"
      ],
      "metadata": {
        "colab": {
          "base_uri": "https://localhost:8080/"
        },
        "id": "NuMGdOSZjDHR",
        "outputId": "4d128251-d03a-45c0-8688-3baba37675f9"
      },
      "execution_count": null,
      "outputs": [
        {
          "output_type": "stream",
          "name": "stdout",
          "text": [
            "True\n",
            "False\n",
            "False\n",
            "False\n",
            "True\n",
            "True\n",
            "True\n"
          ]
        }
      ]
    },
    {
      "cell_type": "code",
      "source": [
        "# Logical Operators\n",
        "# AND OR NOT\n",
        "\n",
        "x = 3\n",
        "y = 6\n",
        "z = 2\n",
        "a = 10\n",
        "\n",
        "resultAND = x < z and y > a\n",
        "print(resultAND)\n",
        "\n",
        "resultAND = x > z and y > z\n",
        "print(resultAND)\n",
        "\n",
        "resultOR =  x < z or y > a\n",
        "print(resultOR)\n",
        "\n",
        "resultOR = x > z or a < y\n",
        "print(resultOR)\n",
        "\n",
        "resultNOT = x < z and y < a and z > a #F and T and F --> T\n",
        "print(resultNOT)"
      ],
      "metadata": {
        "colab": {
          "base_uri": "https://localhost:8080/"
        },
        "id": "5bdH8DTajt_n",
        "outputId": "6178cc30-f734-477a-f8fa-9f429628a3a5"
      },
      "execution_count": null,
      "outputs": [
        {
          "output_type": "stream",
          "name": "stdout",
          "text": [
            "False\n",
            "True\n",
            "False\n",
            "True\n",
            "False\n"
          ]
        }
      ]
    },
    {
      "cell_type": "code",
      "source": [
        "# List is a sequence data type\n",
        "\n",
        "list_num = [5, 11, 14, 15]\n",
        "\n",
        "is_present = 5 in list_num\n",
        "print(is_present)\n",
        "\n",
        "is_present = 20 in list_num\n",
        "print(is_present)\n",
        "\n",
        "is_present = 5 not in list_num\n",
        "print(is_present)\n",
        "\n",
        "is_present = 20 not in list_num\n",
        "print(is_present)"
      ],
      "metadata": {
        "colab": {
          "base_uri": "https://localhost:8080/"
        },
        "id": "4Anm7V0D4eG5",
        "outputId": "947c581a-6527-45ec-cfb7-1aab291546e7"
      },
      "execution_count": null,
      "outputs": [
        {
          "output_type": "stream",
          "name": "stdout",
          "text": [
            "True\n",
            "False\n",
            "False\n",
            "True\n"
          ]
        }
      ]
    },
    {
      "cell_type": "code",
      "source": [
        "# string is also a sequence data type\n",
        "\n",
        "name =\"Vamshi\"\n",
        "\n",
        "is_present = \"a\" in name\n",
        "\n",
        "print(is_present)\n",
        "\n",
        "is_present = \"i\" not in name\n",
        "\n",
        "print(is_present)\n"
      ],
      "metadata": {
        "colab": {
          "base_uri": "https://localhost:8080/"
        },
        "id": "bYC2wluWZ2hY",
        "outputId": "cd31ed41-9638-4c7d-ca1f-bd22bb23eabc"
      },
      "execution_count": null,
      "outputs": [
        {
          "output_type": "stream",
          "name": "stdout",
          "text": [
            "True\n",
            "False\n"
          ]
        }
      ]
    },
    {
      "cell_type": "code",
      "source": [
        "# None data type\n",
        "x = None\n",
        "\n",
        "print(x)\n",
        "print(type(x))"
      ],
      "metadata": {
        "colab": {
          "base_uri": "https://localhost:8080/"
        },
        "id": "_IKpUHi3bjp3",
        "outputId": "77e05d7e-bc46-49c1-fb24-0c9fd209f3a1"
      },
      "execution_count": null,
      "outputs": [
        {
          "output_type": "stream",
          "name": "stdout",
          "text": [
            "None\n",
            "<class 'NoneType'>\n"
          ]
        }
      ]
    },
    {
      "cell_type": "code",
      "source": [
        "# Complex number in Python same as imaginary number in math\n",
        "\n",
        "com_num =  1 + 2j\n",
        "\n",
        "print(com_num)\n",
        "print(type(com_num))"
      ],
      "metadata": {
        "colab": {
          "base_uri": "https://localhost:8080/"
        },
        "id": "Q8BlSnNib08j",
        "outputId": "14916c7a-191e-470b-fbdf-afe4675f597d"
      },
      "execution_count": null,
      "outputs": [
        {
          "output_type": "stream",
          "name": "stdout",
          "text": [
            "(1+2j)\n",
            "<class 'complex'>\n"
          ]
        }
      ]
    },
    {
      "cell_type": "code",
      "source": [
        "# NOTE : Numbers are Immutable(Not Changeable) Data Types\n",
        "# LIST : Lists are Mutable(Changeable) Data Types\n",
        "\n",
        "\n",
        "list_nums = [10,20,30]\n",
        "list_nums.append(50)\n",
        "\n",
        "print(list_nums)\n",
        "print(type(list_nums))\n",
        "\n",
        "dict_data = {\"name\":\"Ravi\", \"age\":25}\n",
        "print(type(dict_data))"
      ],
      "metadata": {
        "colab": {
          "base_uri": "https://localhost:8080/"
        },
        "id": "2xtphKSpci-A",
        "outputId": "97e6805e-40f6-4f20-cfc3-eb1fa9dbac08"
      },
      "execution_count": null,
      "outputs": [
        {
          "output_type": "stream",
          "name": "stdout",
          "text": [
            "[10, 20, 30, 50]\n",
            "<class 'list'>\n",
            "<class 'set'>\n",
            "<class 'dict'>\n"
          ]
        }
      ]
    },
    {
      "cell_type": "code",
      "source": [
        "set_nums = {10,20,30}\n",
        "#set_nums.append(50) --> set type cannot be changeable\n",
        "\n",
        "print(type(set_nums))\n",
        "\n",
        "tuple_nums = (10,20,30)\n",
        "#tuple_nums.append(50) --> tuple type cannot be changeable\n",
        "\n",
        "print(tuple_nums)\n",
        "print(type(tuple_nums))\n"
      ],
      "metadata": {
        "colab": {
          "base_uri": "https://localhost:8080/"
        },
        "id": "x2yWUEUdd92C",
        "outputId": "e850010f-7505-487b-80ff-5e3d94708131"
      },
      "execution_count": 13,
      "outputs": [
        {
          "output_type": "stream",
          "name": "stdout",
          "text": [
            "<class 'set'>\n",
            "(10, 20, 30)\n",
            "<class 'tuple'>\n"
          ]
        }
      ]
    },
    {
      "cell_type": "code",
      "source": [
        "# EMI Calculations\n",
        "\n",
        "vehicle_value = 1500000\n",
        "vehicle_downpayment = 350000\n",
        "vehicle_interest_rate = 8\n",
        "vehicle_loan_tenure = 3\n",
        "\n",
        "total_loan_amount = vehicle_value - vehicle_downpayment\n",
        "\n",
        "print(f\"Total Loan Amount: {total_loan_amount}\")\n",
        "\n",
        "# Conersion of interest rate to monthly\n",
        "\n",
        "monthly_interest_rate = (vehicle_interest_rate/100)/12\n",
        "\n",
        "print(f\"Monthly Interest Rate: {monthly_interest_rate}\")\n",
        "\n",
        "# calculation of loan tenure in months\n",
        "\n",
        "loan_tenure_in_months = vehicle_loan_tenure * 12\n",
        "\n",
        "print(f\"Loan Tenure in Months: {loan_tenure_in_months}\")\n",
        "\n",
        "payable_amount = total_loan_amount + (total_loan_amount * monthly_interest_rate *loan_tenure_in_months)\n",
        "\n",
        "print(f\"Payable Amount: {payable_amount}\")\n",
        "\n",
        "# EMI Amount\n",
        "\n",
        "emi_amount = total_loan_amount * monthly_interest_rate * (1+monthly_interest_rate)**loan_tenure_in_months/((1+monthly_interest_rate)**loan_tenure_in_months-1)\n",
        "\n",
        "print(f\"EMI Amount: {emi_amount}\")\n",
        "\n",
        "\n",
        "\n"
      ],
      "metadata": {
        "colab": {
          "base_uri": "https://localhost:8080/"
        },
        "id": "J8EA_Qd2WAlL",
        "outputId": "b2629f59-c505-4918-dbf3-3ca2ee434306"
      },
      "execution_count": 60,
      "outputs": [
        {
          "output_type": "stream",
          "name": "stdout",
          "text": [
            "Total Loan Amount: 1150000\n",
            "Monthly Interest Rate: 0.006666666666666667\n",
            "Loan Tenure in Months: 36\n",
            "Payable Amount: 1426000.0\n",
            "EMI Amount: 36036.82028064579\n"
          ]
        }
      ]
    }
  ]
}