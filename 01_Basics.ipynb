{
  "nbformat": 4,
  "nbformat_minor": 0,
  "metadata": {
    "colab": {
      "provenance": [],
      "authorship_tag": "ABX9TyNswgwBQYdJTCrxEGystuxW",
      "include_colab_link": true
    },
    "kernelspec": {
      "name": "python3",
      "display_name": "Python 3"
    },
    "language_info": {
      "name": "python"
    }
  },
  "cells": [
    {
      "cell_type": "markdown",
      "metadata": {
        "id": "view-in-github",
        "colab_type": "text"
      },
      "source": [
        "<a href=\"https://colab.research.google.com/github/vamshiG1998/Python_2510/blob/main/01_Basics.ipynb\" target=\"_parent\"><img src=\"https://colab.research.google.com/assets/colab-badge.svg\" alt=\"Open In Colab\"/></a>"
      ]
    },
    {
      "cell_type": "markdown",
      "source": [
        "Basics"
      ],
      "metadata": {
        "id": "vjEUaRKy-6Sj"
      }
    },
    {
      "cell_type": "code",
      "execution_count": 6,
      "metadata": {
        "colab": {
          "base_uri": "https://localhost:8080/"
        },
        "id": "knvQxIEk8Z8V",
        "outputId": "22d499b8-6d6b-4ec6-9351-a8540c78266c"
      },
      "outputs": [
        {
          "output_type": "stream",
          "name": "stdout",
          "text": [
            "3\n"
          ]
        }
      ],
      "source": [
        "a=1\n",
        "b=2\n",
        "print(a+b)"
      ]
    },
    {
      "cell_type": "markdown",
      "source": [
        "# Python is a programming language\n",
        "# English -> We have alphabets --> words --> sentences\n",
        "\n",
        "# Syntax / Rules / Guidelines\n",
        "\n",
        "# Means Comment -> Python will ignore this line\n"
      ],
      "metadata": {
        "id": "Qs3eGfHL8xyF"
      }
    },
    {
      "cell_type": "code",
      "source": [
        "a=10\n",
        "print(a)"
      ],
      "metadata": {
        "colab": {
          "base_uri": "https://localhost:8080/"
        },
        "id": "zNjQggB89Hqp",
        "outputId": "aea22bf0-bdc2-4858-a6d0-c5bf69109bd2"
      },
      "execution_count": 7,
      "outputs": [
        {
          "output_type": "stream",
          "name": "stdout",
          "text": [
            "10\n"
          ]
        }
      ]
    },
    {
      "cell_type": "markdown",
      "source": [],
      "metadata": {
        "id": "puSnJJsy-Wnt"
      }
    },
    {
      "cell_type": "markdown",
      "source": [
        "# Collection of characters is called as String in python\n",
        "# Rule - strings should be enclosed in 'string' or \"string\"\n",
        "# should start with a-z, A-Z, _ and cannot start with digit\n",
        "# Strings cannot be assigned to any keywords\n"
      ],
      "metadata": {
        "id": "ytR7Z5SE-MHS"
      }
    },
    {
      "cell_type": "code",
      "source": [
        "Greet = \"Good Morning vc\"\n",
        "print(Greet)"
      ],
      "metadata": {
        "colab": {
          "base_uri": "https://localhost:8080/"
        },
        "id": "Iw19NIZR-JQt",
        "outputId": "cbba1955-2bf5-49d4-f3fd-77f49a6a1048"
      },
      "execution_count": 8,
      "outputs": [
        {
          "output_type": "stream",
          "name": "stdout",
          "text": [
            "Good Morning vc\n"
          ]
        }
      ]
    },
    {
      "cell_type": "code",
      "source": [
        "import keyword\n",
        "print(keyword.kwlist)\n",
        "\n"
      ],
      "metadata": {
        "colab": {
          "base_uri": "https://localhost:8080/"
        },
        "id": "p0Bmq-YE-liW",
        "outputId": "019b7715-5652-40b7-f166-e0d9c530f7f8"
      },
      "execution_count": 9,
      "outputs": [
        {
          "output_type": "stream",
          "name": "stdout",
          "text": [
            "['False', 'None', 'True', 'and', 'as', 'assert', 'async', 'await', 'break', 'class', 'continue', 'def', 'del', 'elif', 'else', 'except', 'finally', 'for', 'from', 'global', 'if', 'import', 'in', 'is', 'lambda', 'nonlocal', 'not', 'or', 'pass', 'raise', 'return', 'try', 'while', 'with', 'yield']\n"
          ]
        }
      ]
    },
    {
      "cell_type": "code",
      "source": [
        "myname = \"vc\"\n",
        "print(myname)\n",
        "\n",
        "myname2 = \"cv\"\n",
        "print(myname2)\n",
        "\n",
        "print(myname+myname2, myname2+myname)\n",
        "\n",
        "my_class = 9\n",
        "print(my_class)"
      ],
      "metadata": {
        "colab": {
          "base_uri": "https://localhost:8080/"
        },
        "id": "rZSQHwfM_O03",
        "outputId": "e3f43168-8c0c-4028-c125-5b9167001988"
      },
      "execution_count": 19,
      "outputs": [
        {
          "output_type": "stream",
          "name": "stdout",
          "text": [
            "vc\n",
            "cv\n",
            "vccv cvvc\n",
            "9\n"
          ]
        }
      ]
    }
  ]
}